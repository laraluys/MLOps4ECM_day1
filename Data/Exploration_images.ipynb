{
 "cells": [
  {
   "cell_type": "markdown",
   "id": "64e6c597",
   "metadata": {},
   "source": [
    "# Image data explorations"
   ]
  },
  {
   "cell_type": "markdown",
   "id": "fa02df28",
   "metadata": {},
   "source": [
    "For the image dataset we are working on a waste recycling plant dataset, which can be found on [Kaggle](https://www.kaggle.com/datasets/parohod/warp-waste-recycling-plant-dataset). There are three different versions of this dataset. We are using WaRP-C which contains cutout images of a single object. \n",
    "In this notebook we are going to explore the image dataset using pandas, PIL and matplotlib. Therefore the first step will be to import the libraries"
   ]
  },
  {
   "cell_type": "code",
   "execution_count": 1,
   "id": "282c86d8",
   "metadata": {},
   "outputs": [],
   "source": [
    "import os\n",
    "from PIL import Image\n",
    "import pandas as pd\n",
    "import matplotlib.pyplot as plt"
   ]
  },
  {
   "cell_type": "markdown",
   "id": "fdd6c760",
   "metadata": {},
   "source": [
    "Underneath you can find the code to load all images into a pandas dataframe. With this we are also adding some other information to this dataset. This includes the width and height of the images together with their area and image ratio. We also add the label of the image. Lastly, the image itself is saved under the \"image\" column in PIL Image format."
   ]
  },
  {
   "cell_type": "code",
   "execution_count": 2,
   "id": "0df09b57",
   "metadata": {},
   "outputs": [
    {
     "name": "stdout",
     "output_type": "stream",
     "text": [
      "root dir: datasets/Warp-C/\n",
      "root dir: datasets/Warp-C/bottle-blue\n",
      "root dir: datasets/Warp-C/bottle-blue-full\n",
      "root dir: datasets/Warp-C/bottle-blue5l\n",
      "root dir: datasets/Warp-C/bottle-blue5l-full\n",
      "root dir: datasets/Warp-C/bottle-dark\n",
      "root dir: datasets/Warp-C/bottle-dark-full\n",
      "root dir: datasets/Warp-C/bottle-green\n",
      "root dir: datasets/Warp-C/bottle-green-full\n",
      "root dir: datasets/Warp-C/bottle-milk\n",
      "root dir: datasets/Warp-C/bottle-milk-full\n",
      "root dir: datasets/Warp-C/bottle-multicolor\n",
      "root dir: datasets/Warp-C/bottle-multicolor-full\n",
      "root dir: datasets/Warp-C/bottle-oil\n",
      "root dir: datasets/Warp-C/bottle-oil-full\n",
      "root dir: datasets/Warp-C/bottle-transp\n",
      "root dir: datasets/Warp-C/bottle-transp-full\n",
      "root dir: datasets/Warp-C/bottle-yogurt\n",
      "root dir: datasets/Warp-C/canister\n",
      "root dir: datasets/Warp-C/cans\n",
      "root dir: datasets/Warp-C/cardboard-juice\n",
      "root dir: datasets/Warp-C/cardboard-milk\n",
      "root dir: datasets/Warp-C/detergent-box\n",
      "root dir: datasets/Warp-C/detergent-color\n",
      "root dir: datasets/Warp-C/detergent-transp\n",
      "root dir: datasets/Warp-C/detergent-white\n",
      "root dir: datasets/Warp-C/glass-dark\n",
      "root dir: datasets/Warp-C/glass-green\n",
      "root dir: datasets/Warp-C/glass-transp\n",
      "file count: 10016\n",
      "       width  height    area     ratio         label  \\\n",
      "0        190     409   77710  0.464548   bottle-blue   \n",
      "1        368     285  104880  1.291228   bottle-blue   \n",
      "2        424     398  168752  1.065327   bottle-blue   \n",
      "3        239     375   89625  0.637333   bottle-blue   \n",
      "4        324     212   68688  1.528302   bottle-blue   \n",
      "...      ...     ...     ...       ...           ...   \n",
      "10011    186     302   56172  0.615894  glass-transp   \n",
      "10012    340     255   86700  1.333333  glass-transp   \n",
      "10013    142     188   26696  0.755319  glass-transp   \n",
      "10014    159     261   41499  0.609195  glass-transp   \n",
      "10015    167     281   46927  0.594306  glass-transp   \n",
      "\n",
      "                                                   image  \n",
      "0      <PIL.JpegImagePlugin.JpegImageFile image mode=...  \n",
      "1      <PIL.JpegImagePlugin.JpegImageFile image mode=...  \n",
      "2      <PIL.JpegImagePlugin.JpegImageFile image mode=...  \n",
      "3      <PIL.JpegImagePlugin.JpegImageFile image mode=...  \n",
      "4      <PIL.JpegImagePlugin.JpegImageFile image mode=...  \n",
      "...                                                  ...  \n",
      "10011  <PIL.JpegImagePlugin.JpegImageFile image mode=...  \n",
      "10012  <PIL.JpegImagePlugin.JpegImageFile image mode=...  \n",
      "10013  <PIL.JpegImagePlugin.JpegImageFile image mode=...  \n",
      "10014  <PIL.JpegImagePlugin.JpegImageFile image mode=...  \n",
      "10015  <PIL.JpegImagePlugin.JpegImageFile image mode=...  \n",
      "\n",
      "[10016 rows x 6 columns]\n"
     ]
    }
   ],
   "source": [
    "count = 0\n",
    "images = pd.DataFrame(columns=[\"width\", \"height\",\"area\", \"ratio\", \"label\", \"image\"])\n",
    "directory = 'datasets/Warp-C/'\n",
    "for root_dir, cur_dir, files in os.walk(directory):\n",
    "    print(\"root dir: \" + str(root_dir))\n",
    "    label = os.path.basename(os.path.normpath(root_dir))\n",
    "    for file in files:\n",
    "        if \".jpg\" in file:\n",
    "            file_name = root_dir +\"/\"+ file\n",
    "            count += 1\n",
    "            image = Image.open(file_name)\n",
    "            image_size = image.size\n",
    "            ratio = image_size[0]/image_size[1]\n",
    "            row = [image_size[0], image_size[1], image_size[0]*image_size[1], ratio, label, image]\n",
    "            images.loc[len(images)] = row\n",
    "\n",
    "print(\"file count: \" + str(count))\n",
    "print(images)"
   ]
  },
  {
   "cell_type": "markdown",
   "id": "09706f80",
   "metadata": {},
   "source": [
    "## Looking at the images\n",
    "Your first step will be to take a look at a sample for the dataset to get a grasp of what the images look like.\n",
    "\n",
    "To get a random sample of a pandas dataframe you can use the following function.\n",
    "<code>dataframe.sample(n=size_of_sample)</code>\n",
    "\n",
    "To be able to show the images you will have to iterate over the dataframe. This can be done as follows:\n",
    "<code>for index, row in dataframe.iterrows():</code>\n",
    "\n",
    "Lastly to show the images you can plot them using subplots in matplotlib:\n",
    "</br>\n",
    "<code>\n",
    "fig, axes = plt.subplots(nrows=number_of_rows, ncols=number_of_columns, figsize=(width, heigth) ) </br>\n",
    "axes[x,y].imshow(PIL_image)\n",
    "</code>"
   ]
  },
  {
   "cell_type": "code",
   "execution_count": null,
   "id": "d31139db",
   "metadata": {},
   "outputs": [],
   "source": []
  },
  {
   "cell_type": "markdown",
   "id": "2196f663",
   "metadata": {},
   "source": [
    "## Looking at the image sizes\n",
    "\n",
    "The next step will be to get a grasp of the different image sizes. That is why we saved the width, height, area and aspect ratio of the images. To explore the image data sizes you can use the following functions.\n",
    "\n",
    "- In Pandas it is possible to easily create histograms of all numeric values using:</br> <code>dataframe.hist(figsize=[width, height], bins=n_bins)</code>\n",
    "- To create a scatter plot of two columns, you can use matplotlib:</br><code>plt.scatter(dataframe[\"column_1], dataframe[\"column_2\"]) </br> plt.show()</code> \n",
    "- To get a row of a dataframe where a certain column has its maximum value, you can use:</br> <code>maximum = dataframe.loc[dataframe['coluumn'].idxmax()]</code>\n",
    "- A similar function can be used to get the minimum value: </br><code>minimum = dataframe.loc[dataframe['coluumn'].idxmin()]</code>\n",
    "- To display a single PIL Image you can use: </br><code>display(PIL Image)</code>\n",
    "</br></br>\n",
    "\n",
    "With this information, exoplore the distributions of the different sizes of the images, explore the width vs. height distributions, and find out what the minimum and maximum image size and image ratio is, as well as the minimum and maximum width and height. Latstly, think about how these sizes will imact the training of your machine learning model."
   ]
  },
  {
   "cell_type": "code",
   "execution_count": null,
   "id": "f96a610a",
   "metadata": {},
   "outputs": [],
   "source": []
  },
  {
   "cell_type": "code",
   "execution_count": null,
   "id": "def273ac",
   "metadata": {},
   "outputs": [],
   "source": []
  },
  {
   "cell_type": "code",
   "execution_count": null,
   "id": "3f8b3bdb",
   "metadata": {},
   "outputs": [],
   "source": []
  },
  {
   "cell_type": "code",
   "execution_count": null,
   "id": "93b881b0",
   "metadata": {},
   "outputs": [],
   "source": []
  },
  {
   "cell_type": "code",
   "execution_count": null,
   "id": "b94327c3",
   "metadata": {},
   "outputs": [],
   "source": []
  },
  {
   "cell_type": "code",
   "execution_count": null,
   "id": "ead09062",
   "metadata": {},
   "outputs": [],
   "source": []
  },
  {
   "cell_type": "code",
   "execution_count": null,
   "id": "2b3e1980",
   "metadata": {},
   "outputs": [],
   "source": []
  },
  {
   "cell_type": "code",
   "execution_count": null,
   "id": "d82b65b0",
   "metadata": {},
   "outputs": [],
   "source": []
  },
  {
   "cell_type": "code",
   "execution_count": null,
   "id": "3805a91c",
   "metadata": {},
   "outputs": [],
   "source": []
  },
  {
   "cell_type": "markdown",
   "id": "ba6b1e51",
   "metadata": {},
   "source": [
    "## Class distributions\n",
    "\n",
    "Next to the image sizes, the class distributions is another important aspect to explore. You can use the following functions.\n",
    "- Get the unique values in a list from a certain pandas column: <code>unique_values = dataframe[\"column\"].unique()</code>\n",
    "- To count the unique values in a column : <code>unique_values_counted = dataframe[\"column\"].value_counts()</code>\n",
    "- create a barplot in matplotlib from the counted values: <code>counted.plot(kind=\"bar\")</code>\n",
    "\n",
    "What does this distribution mean for the creation of our machine learning model?"
   ]
  },
  {
   "cell_type": "code",
   "execution_count": null,
   "id": "6314e9cf",
   "metadata": {},
   "outputs": [],
   "source": []
  }
 ],
 "metadata": {
  "kernelspec": {
   "display_name": "data",
   "language": "python",
   "name": "python3"
  },
  "language_info": {
   "codemirror_mode": {
    "name": "ipython",
    "version": 3
   },
   "file_extension": ".py",
   "mimetype": "text/x-python",
   "name": "python",
   "nbconvert_exporter": "python",
   "pygments_lexer": "ipython3",
   "version": "3.12.10"
  }
 },
 "nbformat": 4,
 "nbformat_minor": 5
}
